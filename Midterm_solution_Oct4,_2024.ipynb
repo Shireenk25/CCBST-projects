{
  "nbformat": 4,
  "nbformat_minor": 0,
  "metadata": {
    "colab": {
      "provenance": [],
      "authorship_tag": "ABX9TyNjZs+JYhim99cEJXLt2gpz",
      "include_colab_link": true
    },
    "kernelspec": {
      "name": "python3",
      "display_name": "Python 3"
    },
    "language_info": {
      "name": "python"
    }
  },
  "cells": [
    {
      "cell_type": "markdown",
      "metadata": {
        "id": "view-in-github",
        "colab_type": "text"
      },
      "source": [
        "<a href=\"https://colab.research.google.com/github/Shireenk25/CCBST-projects/blob/main/Midterm_solution_Oct4%2C_2024.ipynb\" target=\"_parent\"><img src=\"https://colab.research.google.com/assets/colab-badge.svg\" alt=\"Open In Colab\"/></a>"
      ]
    },
    {
      "cell_type": "code",
      "execution_count": 11,
      "metadata": {
        "colab": {
          "base_uri": "https://localhost:8080/"
        },
        "id": "UyVcvsQqhEOS",
        "outputId": "c38b3ac6-d8ba-41a1-a6e8-b91ed6d57e5e"
      },
      "outputs": [
        {
          "output_type": "stream",
          "name": "stdout",
          "text": [
            "Enter the cost price of the bike: 1\n",
            "The calculated tax on the bike is: 0.050000\n"
          ]
        }
      ],
      "source": [
        "def calculatebiketax(cost_price):\n",
        "    # Cost price should be a valid positive number\n",
        "    if cost_price < 0:\n",
        "        return \"Invalid input: Cost price cannot be negative.\"\n",
        "\n",
        "    # Tax calculation based on cost price\n",
        "    if cost_price <= 50000:\n",
        "        tax = cost_price * 0.05\n",
        "    elif cost_price <= 100000:\n",
        "        tax = 50000 * 0.05 + (cost_price - 50000) * 0.10\n",
        "    else:\n",
        "        tax = 50000 * 0.05 + 50000 * 0.10 + (cost_price - 100000) * 0.15\n",
        "\n",
        "    return tax\n",
        "\n",
        "# Input from the user\n",
        "try:\n",
        "    cost_price = float(input(\"Enter the cost price of the bike: \"))\n",
        "\n",
        "    # Check if the input is valid\n",
        "    if cost_price < 0:\n",
        "        print(\"Invalid input: Cost price cannot be negative.\")\n",
        "    else:\n",
        "        # Calculate tax and display the result\n",
        "        tax = calculatebiketax(cost_price)\n",
        "        print(f\"The calculated tax on the bike is: {tax:f}\")\n",
        "except ValueError:\n",
        "    print(\"Invalid input: Please enter a valid number.\")\n"
      ]
    },
    {
      "cell_type": "code",
      "source": [
        "def calculate_total_cost(gb_used, plan_type, auto_renewal):\n",
        "    # Define the cost for each plan\n",
        "    if plan_type == \"Basic\":\n",
        "        base_cost = 20\n",
        "        included_gb = 5\n",
        "        additional_cost_per_gb = 4\n",
        "    elif plan_type == \"Premium\":\n",
        "        base_cost = 50\n",
        "        included_gb = 20\n",
        "        additional_cost_per_gb = 3\n",
        "    elif plan_type == \"Unlimited\":\n",
        "        base_cost = 70\n",
        "        included_gb = float('inf')\n",
        "        additional_cost_per_gb = 0\n",
        "    else:\n",
        "        return \"Invalid plan type\"\n",
        "\n",
        "    # Calculate the initial cost for the plan\n",
        "    if gb_used <= included_gb:\n",
        "        total_cost = base_cost\n",
        "    else:\n",
        "        extra_gb = gb_used - included_gb\n",
        "        total_cost = base_cost + (extra_gb * additional_cost_per_gb)\n",
        "\n",
        "    # Apply auto-renewal discount if applicable\n",
        "    if auto_renewal == \"Yes\":\n",
        "        total_cost *= 0.95\n",
        "    elif auto_renewal == \"No\":\n",
        "        # Add international roaming surcharge if applicable\n",
        "        if gb_used > included_gb:\n",
        "            total_cost += 10\n",
        "\n",
        "    return total_cost\n",
        "\n",
        "# Input from the user\n",
        "try:\n",
        "    gb_used = float(input(\"Enter the number of GBs of data used this month: \"))\n",
        "    plan_type = input(\"Enter the plan type (Basic, Premium, Unlimited): \").capitalize()\n",
        "    auto_renewal = input(\"Do you want auto-renewal? (Yes/No): \").capitalize()\n",
        "\n",
        "    if gb_used < 0 or plan_type not in [\"Basic\", \"Premium\", \"Unlimited\"] or auto_renewal not in [\"Yes\", \"No\"]:\n",
        "        print(\"Invalid input. Please check the entered values.\")\n",
        "    else:\n",
        "        total_cost = calculate_total_cost(gb_used, plan_type, auto_renewal)\n",
        "        print(f\"The total cost for the month is: ${total_cost:f}\")\n",
        "\n",
        "except ValueError:\n",
        "    print(\"Invalid input. Please enter a valid number for GB usage.\")\n"
      ],
      "metadata": {
        "colab": {
          "base_uri": "https://localhost:8080/"
        },
        "id": "tP8hRLpBltGm",
        "outputId": "a99e6a72-693c-4eb1-f08f-6eb6a50cffb2"
      },
      "execution_count": 16,
      "outputs": [
        {
          "output_type": "stream",
          "name": "stdout",
          "text": [
            "Enter the number of GBs of data used this month: 15\n",
            "Enter the plan type (Basic, Premium, Unlimited): premium\n",
            "Do you want auto-renewal? (Yes/No): yes\n",
            "The total cost for the month is: $47.500000\n"
          ]
        }
      ]
    }
  ]
}