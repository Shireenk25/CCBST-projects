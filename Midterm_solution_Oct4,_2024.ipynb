{
  "nbformat": 4,
  "nbformat_minor": 0,
  "metadata": {
    "colab": {
      "provenance": [],
      "authorship_tag": "ABX9TyORzA0aUdCzyvU4k+hlzB+I",
      "include_colab_link": true
    },
    "kernelspec": {
      "name": "python3",
      "display_name": "Python 3"
    },
    "language_info": {
      "name": "python"
    }
  },
  "cells": [
    {
      "cell_type": "markdown",
      "metadata": {
        "id": "view-in-github",
        "colab_type": "text"
      },
      "source": [
        "<a href=\"https://colab.research.google.com/github/Shireenk25/CCBST-projects/blob/main/Midterm_solution_Oct4%2C_2024.ipynb\" target=\"_parent\"><img src=\"https://colab.research.google.com/assets/colab-badge.svg\" alt=\"Open In Colab\"/></a>"
      ]
    },
    {
      "cell_type": "code",
      "execution_count": 11,
      "metadata": {
        "colab": {
          "base_uri": "https://localhost:8080/"
        },
        "id": "UyVcvsQqhEOS",
        "outputId": "c38b3ac6-d8ba-41a1-a6e8-b91ed6d57e5e"
      },
      "outputs": [
        {
          "output_type": "stream",
          "name": "stdout",
          "text": [
            "Enter the cost price of the bike: 1\n",
            "The calculated tax on the bike is: 0.050000\n"
          ]
        }
      ],
      "source": [
        "def calculatebiketax(cost_price):\n",
        "    # Cost price should be a valid positive number\n",
        "    if cost_price < 0:\n",
        "        return \"Invalid input: Cost price cannot be negative.\"\n",
        "\n",
        "    # Tax calculation based on cost price\n",
        "    if cost_price <= 50000:\n",
        "        tax = cost_price * 0.05\n",
        "    elif cost_price <= 100000:\n",
        "        tax = 50000 * 0.05 + (cost_price - 50000) * 0.10\n",
        "    else:\n",
        "        tax = 50000 * 0.05 + 50000 * 0.10 + (cost_price - 100000) * 0.15\n",
        "\n",
        "    return tax\n",
        "\n",
        "# Input from the user\n",
        "try:\n",
        "    cost_price = float(input(\"Enter the cost price of the bike: \"))\n",
        "\n",
        "    # Check if the input is valid\n",
        "    if cost_price < 0:\n",
        "        print(\"Invalid input: Cost price cannot be negative.\")\n",
        "    else:\n",
        "        # Calculate tax and display the result\n",
        "        tax = calculatebiketax(cost_price)\n",
        "        print(f\"The calculated tax on the bike is: {tax:f}\")\n",
        "except ValueError:\n",
        "    print(\"Invalid input: Please enter a valid number.\")\n"
      ]
    }
  ]
}