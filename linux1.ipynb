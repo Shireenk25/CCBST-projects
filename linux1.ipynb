{
  "nbformat": 4,
  "nbformat_minor": 0,
  "metadata": {
    "colab": {
      "provenance": [],
      "name": "linux1.ipynb"
    },
    "kernelspec": {
      "name": "python3",
      "display_name": "Python 3"
    },
    "language_info": {
      "name": "python"
    }
  },
  "cells": [
    {
      "cell_type": "code",
      "execution_count": null,
      "metadata": {
        "id": "zc7CKTxFSyY8"
      },
      "outputs": [],
      "source": [
        "!mkdir linuxpractise"
      ]
    },
    {
      "cell_type": "code",
      "source": [
        "!touch linuxpractise/file1.txt linuxpractise/file2.txt linuxpractise/file3.txt"
      ],
      "metadata": {
        "id": "bwlHugcyUEVJ"
      },
      "execution_count": null,
      "outputs": []
    },
    {
      "cell_type": "code",
      "source": [
        "!ls linuxpractise/"
      ],
      "metadata": {
        "colab": {
          "base_uri": "https://localhost:8080/"
        },
        "id": "Zi_CtGufUmJM",
        "outputId": "3ae56cec-1615-43cc-e2ee-17bb5d37a49f"
      },
      "execution_count": null,
      "outputs": [
        {
          "output_type": "stream",
          "name": "stdout",
          "text": [
            "file1.txt  file2.txt  file3.txt\n"
          ]
        }
      ]
    },
    {
      "cell_type": "code",
      "source": [
        "!find linuxpractise -type f -name \"*.txt\""
      ],
      "metadata": {
        "colab": {
          "base_uri": "https://localhost:8080/"
        },
        "id": "ybJ9wgmzUy_m",
        "outputId": "5203984c-94f5-448a-9786-17c129c10c31"
      },
      "execution_count": null,
      "outputs": [
        {
          "output_type": "stream",
          "name": "stdout",
          "text": [
            "linuxpractise/file1.txt\n",
            "linuxpractise/file2.txt\n",
            "linuxpractise/file3.txt\n"
          ]
        }
      ]
    },
    {
      "cell_type": "code",
      "source": [
        "!wc linuxpractise/file1.txt"
      ],
      "metadata": {
        "colab": {
          "base_uri": "https://localhost:8080/"
        },
        "id": "dQV_8eLBWMeX",
        "outputId": "fed46f38-37f6-4509-9a59-17080b232189"
      },
      "execution_count": null,
      "outputs": [
        {
          "output_type": "stream",
          "name": "stdout",
          "text": [
            " 0  8 38 linuxpractise/file1.txt\n"
          ]
        }
      ]
    },
    {
      "cell_type": "code",
      "source": [
        "!grep \"CCBST\" linuxpractise/file1.txt linuxpractise/file2.txt linuxpractise/file3.txt"
      ],
      "metadata": {
        "colab": {
          "base_uri": "https://localhost:8080/"
        },
        "id": "XYUQnNjbW6Ta",
        "outputId": "da94ff9b-b7be-4fbb-a9a9-f9e97df7b7e4"
      },
      "execution_count": null,
      "outputs": [
        {
          "output_type": "stream",
          "name": "stdout",
          "text": [
            "linuxpractise/file1.txt:This is a CCBST - Linux practise file.\n"
          ]
        }
      ]
    },
    {
      "cell_type": "code",
      "source": [
        "!mkdir linuxpractise2"
      ],
      "metadata": {
        "id": "xOr-prpwXdyO"
      },
      "execution_count": null,
      "outputs": []
    },
    {
      "cell_type": "code",
      "source": [
        "!mv linuxpractise/file1.txt linuxpractise2/"
      ],
      "metadata": {
        "id": "uWW75isjX32j"
      },
      "execution_count": null,
      "outputs": []
    },
    {
      "cell_type": "code",
      "source": [
        "!ln -s content/linuxpractise/file2.txt /content/"
      ],
      "metadata": {
        "id": "APrCjDQAaPkz"
      },
      "execution_count": null,
      "outputs": []
    },
    {
      "cell_type": "code",
      "source": [
        "!find linuxpractise2/ -type f -mmin -1"
      ],
      "metadata": {
        "id": "Lrjxu4dFaxH_"
      },
      "execution_count": null,
      "outputs": []
    },
    {
      "cell_type": "code",
      "source": [
        "!rm -rf linuxpractise2/"
      ],
      "metadata": {
        "id": "wT2q78MUb27d"
      },
      "execution_count": null,
      "outputs": []
    }
  ]
}